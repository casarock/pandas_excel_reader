{
 "metadata": {
  "language_info": {
   "codemirror_mode": {
    "name": "ipython",
    "version": 3
   },
   "file_extension": ".py",
   "mimetype": "text/x-python",
   "name": "python",
   "nbconvert_exporter": "python",
   "pygments_lexer": "ipython3",
   "version": "3.8.5-final"
  },
  "orig_nbformat": 2,
  "kernelspec": {
   "name": "python_defaultSpec_1600155129855",
   "display_name": "Python 3.8.5 64-bit ('datascience': conda)"
  }
 },
 "nbformat": 4,
 "nbformat_minor": 2,
 "cells": [
  {
   "source": [
    "# Pandas and Excel\n"
   ],
   "cell_type": "markdown",
   "metadata": {}
  },
  {
   "cell_type": "code",
   "execution_count": 1,
   "metadata": {},
   "outputs": [],
   "source": [
    "import pandas as pd\n",
    "import numpy as np"
   ]
  },
  {
   "source": [
    "## First try: Open an Excel file with default parameters."
   ],
   "cell_type": "markdown",
   "metadata": {}
  },
  {
   "cell_type": "code",
   "execution_count": 2,
   "metadata": {},
   "outputs": [],
   "source": [
    "df = pd.read_excel(\"simple_file.xlsx\")"
   ]
  },
  {
   "cell_type": "code",
   "execution_count": 3,
   "metadata": {},
   "outputs": [
    {
     "output_type": "execute_result",
     "data": {
      "text/plain": "             Some Data   Unnamed: 1   Unnamed: 2   Unnamed: 3   Unnamed: 4  \\\n0          Main Column      January     February        March        April   \n1              Value 1          123          321          312          213   \n2              Value 2           67           34           56           76   \n3              Value 3           78           23           77           77   \n4              Value 4           89           12           56           55   \n5              Value 5     0.491632     0.478972     0.579097     0.638244   \n6              Value 6       0.8899     0.920011     0.732506     0.671966   \n7              Value 7     0.437504      0.44066     0.424193     0.428878   \n8                  NaN          NaN          NaN          NaN          NaN   \n9   Some sub headline!          NaN          NaN          NaN          NaN   \n10                 NaN          NaN          NaN          NaN          NaN   \n11           Employees  Something 1  Something 2  Something 3  Something 4   \n12            John Doe         14.3           10         0.34         0.65   \n13            Jane Doe           16            8         1.41         0.67   \n14         Lorem Ipsum            8            4         2.01         0.56   \n15         Paul Weller            6            5          2.1         0.12   \n16          Dave Grohl           12        10.66         2.22         0.75   \n17             Mr. Big           11        11.38          3.3         0.64   \n18            The Dude           21       12.325          2.1         0.34   \n19        Bart Simpson           24        17.88          5.5         0.12   \n20            Iron Man           12         1.44          7.1         0.55   \n21           Thomas H.           20            2            2         0.11   \n22                 NaN          NaN          NaN          NaN          NaN   \n23                 NaN        144.3       82.685        28.08        0.451   \n\n     Unnamed: 5   Unnamed: 6 Unnamed: 7 Unnamed: 8 Unnamed: 9 Unnamed: 10  \\\n0           May         June       July     August  September     October   \n1           312          222        111        124          0           0   \n2           123          545        444        442          0           0   \n3           222          434        544        234          0           0   \n4            33          333        654        423          0           0   \n5      0.511928     0.675326   0.606272   0.762846          0           0   \n6      0.616595     0.667848   0.868355   0.276603          0           0   \n7      0.315652     0.451015   0.526459   0.211006          0           0   \n8           NaN          NaN        NaN        NaN        NaN         NaN   \n9           NaN          NaN        NaN        NaN        NaN         NaN   \n10          NaN          NaN        NaN        NaN        NaN         NaN   \n11  Something 5  Something 6        NaN        NaN        NaN         NaN   \n12          0.5        -0.15        NaN        NaN        NaN         NaN   \n13          0.6        -0.07        NaN        NaN        NaN         NaN   \n14          0.7         0.14        NaN        NaN        NaN         NaN   \n15          0.8         0.68        NaN        NaN        NaN         NaN   \n16          0.9         0.15        NaN        NaN        NaN         NaN   \n17          0.2        -0.44        NaN        NaN        NaN         NaN   \n18          0.3        -0.04        NaN        NaN        NaN         NaN   \n19          0.4         0.28        NaN        NaN        NaN         NaN   \n20          0.5        -0.05        NaN        NaN        NaN         NaN   \n21          0.6         0.49        NaN        NaN        NaN         NaN   \n22          NaN            0        NaN        NaN        NaN         NaN   \n23         0.55        0.099        NaN        NaN        NaN         NaN   \n\n   Unnamed: 11 Unnamed: 12  Unnamed: 13  \\\n0     November    December          NaN   \n1            0           0          NaN   \n2            0           0          NaN   \n3            0           0          NaN   \n4            0           0          NaN   \n5            0           0          NaN   \n6            0           0          NaN   \n7            0           0          NaN   \n8          NaN         NaN          NaN   \n9          NaN         NaN          NaN   \n10         NaN         NaN          NaN   \n11         NaN         NaN          NaN   \n12         NaN         NaN          NaN   \n13         NaN         NaN          NaN   \n14         NaN         NaN          NaN   \n15         NaN         NaN          NaN   \n16         NaN         NaN          NaN   \n17         NaN         NaN          NaN   \n18         NaN         NaN          NaN   \n19         NaN         NaN          NaN   \n20         NaN         NaN          NaN   \n21         NaN         NaN          NaN   \n22         NaN         NaN          NaN   \n23         NaN         NaN          NaN   \n\n                                     Some Explanation  \n0   Lorem ipsum dolor sit amet, consetetur sadipsc...  \n1                                                 NaN  \n2                                    1. Explanation 1  \n3                                                 NaN  \n4                                                 NaN  \n5                                                 NaN  \n6                                                 NaN  \n7                                                 NaN  \n8                                                 NaN  \n9                                                 NaN  \n10                             Auxiliary calculations  \n11                                         123 Things  \n12                                111 Things not used  \n13                                        20 Whatever  \n14                                                NaN  \n15                                                NaN  \n16                                                NaN  \n17                                                NaN  \n18                                                NaN  \n19                                                NaN  \n20                                                NaN  \n21                                                NaN  \n22                                                NaN  \n23                                                NaN  ",
      "text/html": "<div>\n<style scoped>\n    .dataframe tbody tr th:only-of-type {\n        vertical-align: middle;\n    }\n\n    .dataframe tbody tr th {\n        vertical-align: top;\n    }\n\n    .dataframe thead th {\n        text-align: right;\n    }\n</style>\n<table border=\"1\" class=\"dataframe\">\n  <thead>\n    <tr style=\"text-align: right;\">\n      <th></th>\n      <th>Some Data</th>\n      <th>Unnamed: 1</th>\n      <th>Unnamed: 2</th>\n      <th>Unnamed: 3</th>\n      <th>Unnamed: 4</th>\n      <th>Unnamed: 5</th>\n      <th>Unnamed: 6</th>\n      <th>Unnamed: 7</th>\n      <th>Unnamed: 8</th>\n      <th>Unnamed: 9</th>\n      <th>Unnamed: 10</th>\n      <th>Unnamed: 11</th>\n      <th>Unnamed: 12</th>\n      <th>Unnamed: 13</th>\n      <th>Some Explanation</th>\n    </tr>\n  </thead>\n  <tbody>\n    <tr>\n      <th>0</th>\n      <td>Main Column</td>\n      <td>January</td>\n      <td>February</td>\n      <td>March</td>\n      <td>April</td>\n      <td>May</td>\n      <td>June</td>\n      <td>July</td>\n      <td>August</td>\n      <td>September</td>\n      <td>October</td>\n      <td>November</td>\n      <td>December</td>\n      <td>NaN</td>\n      <td>Lorem ipsum dolor sit amet, consetetur sadipsc...</td>\n    </tr>\n    <tr>\n      <th>1</th>\n      <td>Value 1</td>\n      <td>123</td>\n      <td>321</td>\n      <td>312</td>\n      <td>213</td>\n      <td>312</td>\n      <td>222</td>\n      <td>111</td>\n      <td>124</td>\n      <td>0</td>\n      <td>0</td>\n      <td>0</td>\n      <td>0</td>\n      <td>NaN</td>\n      <td>NaN</td>\n    </tr>\n    <tr>\n      <th>2</th>\n      <td>Value 2</td>\n      <td>67</td>\n      <td>34</td>\n      <td>56</td>\n      <td>76</td>\n      <td>123</td>\n      <td>545</td>\n      <td>444</td>\n      <td>442</td>\n      <td>0</td>\n      <td>0</td>\n      <td>0</td>\n      <td>0</td>\n      <td>NaN</td>\n      <td>1. Explanation 1</td>\n    </tr>\n    <tr>\n      <th>3</th>\n      <td>Value 3</td>\n      <td>78</td>\n      <td>23</td>\n      <td>77</td>\n      <td>77</td>\n      <td>222</td>\n      <td>434</td>\n      <td>544</td>\n      <td>234</td>\n      <td>0</td>\n      <td>0</td>\n      <td>0</td>\n      <td>0</td>\n      <td>NaN</td>\n      <td>NaN</td>\n    </tr>\n    <tr>\n      <th>4</th>\n      <td>Value 4</td>\n      <td>89</td>\n      <td>12</td>\n      <td>56</td>\n      <td>55</td>\n      <td>33</td>\n      <td>333</td>\n      <td>654</td>\n      <td>423</td>\n      <td>0</td>\n      <td>0</td>\n      <td>0</td>\n      <td>0</td>\n      <td>NaN</td>\n      <td>NaN</td>\n    </tr>\n    <tr>\n      <th>5</th>\n      <td>Value 5</td>\n      <td>0.491632</td>\n      <td>0.478972</td>\n      <td>0.579097</td>\n      <td>0.638244</td>\n      <td>0.511928</td>\n      <td>0.675326</td>\n      <td>0.606272</td>\n      <td>0.762846</td>\n      <td>0</td>\n      <td>0</td>\n      <td>0</td>\n      <td>0</td>\n      <td>NaN</td>\n      <td>NaN</td>\n    </tr>\n    <tr>\n      <th>6</th>\n      <td>Value 6</td>\n      <td>0.8899</td>\n      <td>0.920011</td>\n      <td>0.732506</td>\n      <td>0.671966</td>\n      <td>0.616595</td>\n      <td>0.667848</td>\n      <td>0.868355</td>\n      <td>0.276603</td>\n      <td>0</td>\n      <td>0</td>\n      <td>0</td>\n      <td>0</td>\n      <td>NaN</td>\n      <td>NaN</td>\n    </tr>\n    <tr>\n      <th>7</th>\n      <td>Value 7</td>\n      <td>0.437504</td>\n      <td>0.44066</td>\n      <td>0.424193</td>\n      <td>0.428878</td>\n      <td>0.315652</td>\n      <td>0.451015</td>\n      <td>0.526459</td>\n      <td>0.211006</td>\n      <td>0</td>\n      <td>0</td>\n      <td>0</td>\n      <td>0</td>\n      <td>NaN</td>\n      <td>NaN</td>\n    </tr>\n    <tr>\n      <th>8</th>\n      <td>NaN</td>\n      <td>NaN</td>\n      <td>NaN</td>\n      <td>NaN</td>\n      <td>NaN</td>\n      <td>NaN</td>\n      <td>NaN</td>\n      <td>NaN</td>\n      <td>NaN</td>\n      <td>NaN</td>\n      <td>NaN</td>\n      <td>NaN</td>\n      <td>NaN</td>\n      <td>NaN</td>\n      <td>NaN</td>\n    </tr>\n    <tr>\n      <th>9</th>\n      <td>Some sub headline!</td>\n      <td>NaN</td>\n      <td>NaN</td>\n      <td>NaN</td>\n      <td>NaN</td>\n      <td>NaN</td>\n      <td>NaN</td>\n      <td>NaN</td>\n      <td>NaN</td>\n      <td>NaN</td>\n      <td>NaN</td>\n      <td>NaN</td>\n      <td>NaN</td>\n      <td>NaN</td>\n      <td>NaN</td>\n    </tr>\n    <tr>\n      <th>10</th>\n      <td>NaN</td>\n      <td>NaN</td>\n      <td>NaN</td>\n      <td>NaN</td>\n      <td>NaN</td>\n      <td>NaN</td>\n      <td>NaN</td>\n      <td>NaN</td>\n      <td>NaN</td>\n      <td>NaN</td>\n      <td>NaN</td>\n      <td>NaN</td>\n      <td>NaN</td>\n      <td>NaN</td>\n      <td>Auxiliary calculations</td>\n    </tr>\n    <tr>\n      <th>11</th>\n      <td>Employees</td>\n      <td>Something 1</td>\n      <td>Something 2</td>\n      <td>Something 3</td>\n      <td>Something 4</td>\n      <td>Something 5</td>\n      <td>Something 6</td>\n      <td>NaN</td>\n      <td>NaN</td>\n      <td>NaN</td>\n      <td>NaN</td>\n      <td>NaN</td>\n      <td>NaN</td>\n      <td>NaN</td>\n      <td>123 Things</td>\n    </tr>\n    <tr>\n      <th>12</th>\n      <td>John Doe</td>\n      <td>14.3</td>\n      <td>10</td>\n      <td>0.34</td>\n      <td>0.65</td>\n      <td>0.5</td>\n      <td>-0.15</td>\n      <td>NaN</td>\n      <td>NaN</td>\n      <td>NaN</td>\n      <td>NaN</td>\n      <td>NaN</td>\n      <td>NaN</td>\n      <td>NaN</td>\n      <td>111 Things not used</td>\n    </tr>\n    <tr>\n      <th>13</th>\n      <td>Jane Doe</td>\n      <td>16</td>\n      <td>8</td>\n      <td>1.41</td>\n      <td>0.67</td>\n      <td>0.6</td>\n      <td>-0.07</td>\n      <td>NaN</td>\n      <td>NaN</td>\n      <td>NaN</td>\n      <td>NaN</td>\n      <td>NaN</td>\n      <td>NaN</td>\n      <td>NaN</td>\n      <td>20 Whatever</td>\n    </tr>\n    <tr>\n      <th>14</th>\n      <td>Lorem Ipsum</td>\n      <td>8</td>\n      <td>4</td>\n      <td>2.01</td>\n      <td>0.56</td>\n      <td>0.7</td>\n      <td>0.14</td>\n      <td>NaN</td>\n      <td>NaN</td>\n      <td>NaN</td>\n      <td>NaN</td>\n      <td>NaN</td>\n      <td>NaN</td>\n      <td>NaN</td>\n      <td>NaN</td>\n    </tr>\n    <tr>\n      <th>15</th>\n      <td>Paul Weller</td>\n      <td>6</td>\n      <td>5</td>\n      <td>2.1</td>\n      <td>0.12</td>\n      <td>0.8</td>\n      <td>0.68</td>\n      <td>NaN</td>\n      <td>NaN</td>\n      <td>NaN</td>\n      <td>NaN</td>\n      <td>NaN</td>\n      <td>NaN</td>\n      <td>NaN</td>\n      <td>NaN</td>\n    </tr>\n    <tr>\n      <th>16</th>\n      <td>Dave Grohl</td>\n      <td>12</td>\n      <td>10.66</td>\n      <td>2.22</td>\n      <td>0.75</td>\n      <td>0.9</td>\n      <td>0.15</td>\n      <td>NaN</td>\n      <td>NaN</td>\n      <td>NaN</td>\n      <td>NaN</td>\n      <td>NaN</td>\n      <td>NaN</td>\n      <td>NaN</td>\n      <td>NaN</td>\n    </tr>\n    <tr>\n      <th>17</th>\n      <td>Mr. Big</td>\n      <td>11</td>\n      <td>11.38</td>\n      <td>3.3</td>\n      <td>0.64</td>\n      <td>0.2</td>\n      <td>-0.44</td>\n      <td>NaN</td>\n      <td>NaN</td>\n      <td>NaN</td>\n      <td>NaN</td>\n      <td>NaN</td>\n      <td>NaN</td>\n      <td>NaN</td>\n      <td>NaN</td>\n    </tr>\n    <tr>\n      <th>18</th>\n      <td>The Dude</td>\n      <td>21</td>\n      <td>12.325</td>\n      <td>2.1</td>\n      <td>0.34</td>\n      <td>0.3</td>\n      <td>-0.04</td>\n      <td>NaN</td>\n      <td>NaN</td>\n      <td>NaN</td>\n      <td>NaN</td>\n      <td>NaN</td>\n      <td>NaN</td>\n      <td>NaN</td>\n      <td>NaN</td>\n    </tr>\n    <tr>\n      <th>19</th>\n      <td>Bart Simpson</td>\n      <td>24</td>\n      <td>17.88</td>\n      <td>5.5</td>\n      <td>0.12</td>\n      <td>0.4</td>\n      <td>0.28</td>\n      <td>NaN</td>\n      <td>NaN</td>\n      <td>NaN</td>\n      <td>NaN</td>\n      <td>NaN</td>\n      <td>NaN</td>\n      <td>NaN</td>\n      <td>NaN</td>\n    </tr>\n    <tr>\n      <th>20</th>\n      <td>Iron Man</td>\n      <td>12</td>\n      <td>1.44</td>\n      <td>7.1</td>\n      <td>0.55</td>\n      <td>0.5</td>\n      <td>-0.05</td>\n      <td>NaN</td>\n      <td>NaN</td>\n      <td>NaN</td>\n      <td>NaN</td>\n      <td>NaN</td>\n      <td>NaN</td>\n      <td>NaN</td>\n      <td>NaN</td>\n    </tr>\n    <tr>\n      <th>21</th>\n      <td>Thomas H.</td>\n      <td>20</td>\n      <td>2</td>\n      <td>2</td>\n      <td>0.11</td>\n      <td>0.6</td>\n      <td>0.49</td>\n      <td>NaN</td>\n      <td>NaN</td>\n      <td>NaN</td>\n      <td>NaN</td>\n      <td>NaN</td>\n      <td>NaN</td>\n      <td>NaN</td>\n      <td>NaN</td>\n    </tr>\n    <tr>\n      <th>22</th>\n      <td>NaN</td>\n      <td>NaN</td>\n      <td>NaN</td>\n      <td>NaN</td>\n      <td>NaN</td>\n      <td>NaN</td>\n      <td>0</td>\n      <td>NaN</td>\n      <td>NaN</td>\n      <td>NaN</td>\n      <td>NaN</td>\n      <td>NaN</td>\n      <td>NaN</td>\n      <td>NaN</td>\n      <td>NaN</td>\n    </tr>\n    <tr>\n      <th>23</th>\n      <td>NaN</td>\n      <td>144.3</td>\n      <td>82.685</td>\n      <td>28.08</td>\n      <td>0.451</td>\n      <td>0.55</td>\n      <td>0.099</td>\n      <td>NaN</td>\n      <td>NaN</td>\n      <td>NaN</td>\n      <td>NaN</td>\n      <td>NaN</td>\n      <td>NaN</td>\n      <td>NaN</td>\n      <td>NaN</td>\n    </tr>\n  </tbody>\n</table>\n</div>"
     },
     "metadata": {},
     "execution_count": 3
    }
   ],
   "source": [
    "df"
   ]
  },
  {
   "source": [
    "Well, thats not pretty and declutter this data frame isn't fun. Let's use some parameters to specify what cells we want to get into our data frame."
   ],
   "cell_type": "markdown",
   "metadata": {}
  },
  {
   "cell_type": "code",
   "execution_count": 4,
   "metadata": {},
   "outputs": [],
   "source": [
    "df = pd.read_excel(\"simple_file.xlsx\", header=1, usecols=\"A:M\", nrows=7)"
   ]
  },
  {
   "cell_type": "code",
   "execution_count": 5,
   "metadata": {},
   "outputs": [
    {
     "output_type": "execute_result",
     "data": {
      "text/plain": "  Main Column     January    February       March       April         May  \\\n0     Value 1  123.000000  321.000000  312.000000  213.000000  312.000000   \n1     Value 2   67.000000   34.000000   56.000000   76.000000  123.000000   \n2     Value 3   78.000000   23.000000   77.000000   77.000000  222.000000   \n3     Value 4   89.000000   12.000000   56.000000   55.000000   33.000000   \n4     Value 5    0.491632    0.478972    0.579097    0.638244    0.511928   \n5     Value 6    0.889900    0.920011    0.732506    0.671966    0.616595   \n6     Value 7    0.437504    0.440660    0.424193    0.428878    0.315652   \n\n         June        July      August  September  October  November  December  \n0  222.000000  111.000000  124.000000          0        0         0         0  \n1  545.000000  444.000000  442.000000          0        0         0         0  \n2  434.000000  544.000000  234.000000          0        0         0         0  \n3  333.000000  654.000000  423.000000          0        0         0         0  \n4    0.675326    0.606272    0.762846          0        0         0         0  \n5    0.667848    0.868355    0.276603          0        0         0         0  \n6    0.451015    0.526459    0.211006          0        0         0         0  ",
      "text/html": "<div>\n<style scoped>\n    .dataframe tbody tr th:only-of-type {\n        vertical-align: middle;\n    }\n\n    .dataframe tbody tr th {\n        vertical-align: top;\n    }\n\n    .dataframe thead th {\n        text-align: right;\n    }\n</style>\n<table border=\"1\" class=\"dataframe\">\n  <thead>\n    <tr style=\"text-align: right;\">\n      <th></th>\n      <th>Main Column</th>\n      <th>January</th>\n      <th>February</th>\n      <th>March</th>\n      <th>April</th>\n      <th>May</th>\n      <th>June</th>\n      <th>July</th>\n      <th>August</th>\n      <th>September</th>\n      <th>October</th>\n      <th>November</th>\n      <th>December</th>\n    </tr>\n  </thead>\n  <tbody>\n    <tr>\n      <th>0</th>\n      <td>Value 1</td>\n      <td>123.000000</td>\n      <td>321.000000</td>\n      <td>312.000000</td>\n      <td>213.000000</td>\n      <td>312.000000</td>\n      <td>222.000000</td>\n      <td>111.000000</td>\n      <td>124.000000</td>\n      <td>0</td>\n      <td>0</td>\n      <td>0</td>\n      <td>0</td>\n    </tr>\n    <tr>\n      <th>1</th>\n      <td>Value 2</td>\n      <td>67.000000</td>\n      <td>34.000000</td>\n      <td>56.000000</td>\n      <td>76.000000</td>\n      <td>123.000000</td>\n      <td>545.000000</td>\n      <td>444.000000</td>\n      <td>442.000000</td>\n      <td>0</td>\n      <td>0</td>\n      <td>0</td>\n      <td>0</td>\n    </tr>\n    <tr>\n      <th>2</th>\n      <td>Value 3</td>\n      <td>78.000000</td>\n      <td>23.000000</td>\n      <td>77.000000</td>\n      <td>77.000000</td>\n      <td>222.000000</td>\n      <td>434.000000</td>\n      <td>544.000000</td>\n      <td>234.000000</td>\n      <td>0</td>\n      <td>0</td>\n      <td>0</td>\n      <td>0</td>\n    </tr>\n    <tr>\n      <th>3</th>\n      <td>Value 4</td>\n      <td>89.000000</td>\n      <td>12.000000</td>\n      <td>56.000000</td>\n      <td>55.000000</td>\n      <td>33.000000</td>\n      <td>333.000000</td>\n      <td>654.000000</td>\n      <td>423.000000</td>\n      <td>0</td>\n      <td>0</td>\n      <td>0</td>\n      <td>0</td>\n    </tr>\n    <tr>\n      <th>4</th>\n      <td>Value 5</td>\n      <td>0.491632</td>\n      <td>0.478972</td>\n      <td>0.579097</td>\n      <td>0.638244</td>\n      <td>0.511928</td>\n      <td>0.675326</td>\n      <td>0.606272</td>\n      <td>0.762846</td>\n      <td>0</td>\n      <td>0</td>\n      <td>0</td>\n      <td>0</td>\n    </tr>\n    <tr>\n      <th>5</th>\n      <td>Value 6</td>\n      <td>0.889900</td>\n      <td>0.920011</td>\n      <td>0.732506</td>\n      <td>0.671966</td>\n      <td>0.616595</td>\n      <td>0.667848</td>\n      <td>0.868355</td>\n      <td>0.276603</td>\n      <td>0</td>\n      <td>0</td>\n      <td>0</td>\n      <td>0</td>\n    </tr>\n    <tr>\n      <th>6</th>\n      <td>Value 7</td>\n      <td>0.437504</td>\n      <td>0.440660</td>\n      <td>0.424193</td>\n      <td>0.428878</td>\n      <td>0.315652</td>\n      <td>0.451015</td>\n      <td>0.526459</td>\n      <td>0.211006</td>\n      <td>0</td>\n      <td>0</td>\n      <td>0</td>\n      <td>0</td>\n    </tr>\n  </tbody>\n</table>\n</div>"
     },
     "metadata": {},
     "execution_count": 5
    }
   ],
   "source": [
    "df"
   ]
  },
  {
   "source": [
    "That's looking much better. We are able to read the cells between columns A to M using row 2 (excel starts counting at 1, pandas at 0) as our header and read seven rows with data starting from our row which is declared as header."
   ],
   "cell_type": "markdown",
   "metadata": {}
  },
  {
   "source": [
    "Now let's read the second table with data from our sheet."
   ],
   "cell_type": "markdown",
   "metadata": {}
  },
  {
   "cell_type": "code",
   "execution_count": 6,
   "metadata": {},
   "outputs": [],
   "source": [
    "df_employees = pd.read_excel(\"simple_file.xlsx\", header=12, usecols=\"A:G\", nrows=10)"
   ]
  },
  {
   "cell_type": "code",
   "execution_count": 7,
   "metadata": {},
   "outputs": [
    {
     "output_type": "execute_result",
     "data": {
      "text/plain": "      Employees  Something 1  Something 2  Something 3  Something 4  \\\n0      John Doe         14.3       10.000         0.34         0.65   \n1      Jane Doe         16.0        8.000         1.41         0.67   \n2   Lorem Ipsum          8.0        4.000         2.01         0.56   \n3   Paul Weller          6.0        5.000         2.10         0.12   \n4    Dave Grohl         12.0       10.660         2.22         0.75   \n5       Mr. Big         11.0       11.380         3.30         0.64   \n6      The Dude         21.0       12.325         2.10         0.34   \n7  Bart Simpson         24.0       17.880         5.50         0.12   \n8      Iron Man         12.0        1.440         7.10         0.55   \n9     Thomas H.         20.0        2.000         2.00         0.11   \n\n   Something 5  Something 6  \n0          0.5        -0.15  \n1          0.6        -0.07  \n2          0.7         0.14  \n3          0.8         0.68  \n4          0.9         0.15  \n5          0.2        -0.44  \n6          0.3        -0.04  \n7          0.4         0.28  \n8          0.5        -0.05  \n9          0.6         0.49  ",
      "text/html": "<div>\n<style scoped>\n    .dataframe tbody tr th:only-of-type {\n        vertical-align: middle;\n    }\n\n    .dataframe tbody tr th {\n        vertical-align: top;\n    }\n\n    .dataframe thead th {\n        text-align: right;\n    }\n</style>\n<table border=\"1\" class=\"dataframe\">\n  <thead>\n    <tr style=\"text-align: right;\">\n      <th></th>\n      <th>Employees</th>\n      <th>Something 1</th>\n      <th>Something 2</th>\n      <th>Something 3</th>\n      <th>Something 4</th>\n      <th>Something 5</th>\n      <th>Something 6</th>\n    </tr>\n  </thead>\n  <tbody>\n    <tr>\n      <th>0</th>\n      <td>John Doe</td>\n      <td>14.3</td>\n      <td>10.000</td>\n      <td>0.34</td>\n      <td>0.65</td>\n      <td>0.5</td>\n      <td>-0.15</td>\n    </tr>\n    <tr>\n      <th>1</th>\n      <td>Jane Doe</td>\n      <td>16.0</td>\n      <td>8.000</td>\n      <td>1.41</td>\n      <td>0.67</td>\n      <td>0.6</td>\n      <td>-0.07</td>\n    </tr>\n    <tr>\n      <th>2</th>\n      <td>Lorem Ipsum</td>\n      <td>8.0</td>\n      <td>4.000</td>\n      <td>2.01</td>\n      <td>0.56</td>\n      <td>0.7</td>\n      <td>0.14</td>\n    </tr>\n    <tr>\n      <th>3</th>\n      <td>Paul Weller</td>\n      <td>6.0</td>\n      <td>5.000</td>\n      <td>2.10</td>\n      <td>0.12</td>\n      <td>0.8</td>\n      <td>0.68</td>\n    </tr>\n    <tr>\n      <th>4</th>\n      <td>Dave Grohl</td>\n      <td>12.0</td>\n      <td>10.660</td>\n      <td>2.22</td>\n      <td>0.75</td>\n      <td>0.9</td>\n      <td>0.15</td>\n    </tr>\n    <tr>\n      <th>5</th>\n      <td>Mr. Big</td>\n      <td>11.0</td>\n      <td>11.380</td>\n      <td>3.30</td>\n      <td>0.64</td>\n      <td>0.2</td>\n      <td>-0.44</td>\n    </tr>\n    <tr>\n      <th>6</th>\n      <td>The Dude</td>\n      <td>21.0</td>\n      <td>12.325</td>\n      <td>2.10</td>\n      <td>0.34</td>\n      <td>0.3</td>\n      <td>-0.04</td>\n    </tr>\n    <tr>\n      <th>7</th>\n      <td>Bart Simpson</td>\n      <td>24.0</td>\n      <td>17.880</td>\n      <td>5.50</td>\n      <td>0.12</td>\n      <td>0.4</td>\n      <td>0.28</td>\n    </tr>\n    <tr>\n      <th>8</th>\n      <td>Iron Man</td>\n      <td>12.0</td>\n      <td>1.440</td>\n      <td>7.10</td>\n      <td>0.55</td>\n      <td>0.5</td>\n      <td>-0.05</td>\n    </tr>\n    <tr>\n      <th>9</th>\n      <td>Thomas H.</td>\n      <td>20.0</td>\n      <td>2.000</td>\n      <td>2.00</td>\n      <td>0.11</td>\n      <td>0.6</td>\n      <td>0.49</td>\n    </tr>\n  </tbody>\n</table>\n</div>"
     },
     "metadata": {},
     "execution_count": 7
    }
   ],
   "source": [
    "df_employees"
   ]
  },
  {
   "source": [
    "That was easy! Lets try somethng more complex"
   ],
   "cell_type": "markdown",
   "metadata": {}
  },
  {
   "source": [
    "### More complex example\n",
    "Let's open an file with 4 sheets. the first sheet is a cover page we don't want to use. the following 3 sheets are in the same layout with data we want to read and use in a data frame."
   ],
   "cell_type": "markdown",
   "metadata": {}
  },
  {
   "cell_type": "code",
   "execution_count": 8,
   "metadata": {},
   "outputs": [],
   "source": [
    "df_complex = pd.read_excel(\"complex_file.xlsx\", sheet_name=['Sheet 1', 2, 3], header=9, usecols=\"A,B,D:H\", nrows=19, dtype={'#': np.object})"
   ]
  },
  {
   "source": [
    "With `sheet_name` we are able to select which sheet(s) we want to use. Either pass a number or string with sheet name or pass a list of Sheets defined as names or number. Again: Excel starts counting at 1, Pandas at 0. First sheet is number 0. \n",
    "\n",
    "We perform for every sheet the same actions to interpret the data. Pandas returns a dictionary of dataframes.\n"
   ],
   "cell_type": "markdown",
   "metadata": {}
  },
  {
   "cell_type": "code",
   "execution_count": 9,
   "metadata": {},
   "outputs": [],
   "source": [
    "# optional: get rid of rows with NA to get clear data for each sheet\n",
    "df_sheet1 = df_complex['Sheet 1'].dropna()\n",
    "df_sheet2 = df_complex[2].dropna()\n",
    "df_sheet3 = df_complex[3].dropna()"
   ]
  },
  {
   "cell_type": "code",
   "execution_count": 10,
   "metadata": {},
   "outputs": [
    {
     "output_type": "execute_result",
     "data": {
      "text/plain": "     #    Person  Column 4  Column 5  Column 6   Column 7  Column 8\n0  123  Person 1     15.00     650.0    432.12  6481.8000   9750.00\n1  124  Person 2     14.50     650.0    432.12  6265.7400   9425.00\n2  125  Person 3      0.25     555.0    432.12   108.0300    138.75\n3  126  Person 4      2.12     555.0    432.12   916.0944   1176.60\n4  127  Person 5      5.64     650.0    432.12  2437.1568   3666.00\n5  128  Person 6     12.10     400.0    432.12  5228.6520   4840.00\n6  129  Person 7      3.56     300.0    432.12  1538.3472   1068.00",
      "text/html": "<div>\n<style scoped>\n    .dataframe tbody tr th:only-of-type {\n        vertical-align: middle;\n    }\n\n    .dataframe tbody tr th {\n        vertical-align: top;\n    }\n\n    .dataframe thead th {\n        text-align: right;\n    }\n</style>\n<table border=\"1\" class=\"dataframe\">\n  <thead>\n    <tr style=\"text-align: right;\">\n      <th></th>\n      <th>#</th>\n      <th>Person</th>\n      <th>Column 4</th>\n      <th>Column 5</th>\n      <th>Column 6</th>\n      <th>Column 7</th>\n      <th>Column 8</th>\n    </tr>\n  </thead>\n  <tbody>\n    <tr>\n      <th>0</th>\n      <td>123</td>\n      <td>Person 1</td>\n      <td>15.00</td>\n      <td>650.0</td>\n      <td>432.12</td>\n      <td>6481.8000</td>\n      <td>9750.00</td>\n    </tr>\n    <tr>\n      <th>1</th>\n      <td>124</td>\n      <td>Person 2</td>\n      <td>14.50</td>\n      <td>650.0</td>\n      <td>432.12</td>\n      <td>6265.7400</td>\n      <td>9425.00</td>\n    </tr>\n    <tr>\n      <th>2</th>\n      <td>125</td>\n      <td>Person 3</td>\n      <td>0.25</td>\n      <td>555.0</td>\n      <td>432.12</td>\n      <td>108.0300</td>\n      <td>138.75</td>\n    </tr>\n    <tr>\n      <th>3</th>\n      <td>126</td>\n      <td>Person 4</td>\n      <td>2.12</td>\n      <td>555.0</td>\n      <td>432.12</td>\n      <td>916.0944</td>\n      <td>1176.60</td>\n    </tr>\n    <tr>\n      <th>4</th>\n      <td>127</td>\n      <td>Person 5</td>\n      <td>5.64</td>\n      <td>650.0</td>\n      <td>432.12</td>\n      <td>2437.1568</td>\n      <td>3666.00</td>\n    </tr>\n    <tr>\n      <th>5</th>\n      <td>128</td>\n      <td>Person 6</td>\n      <td>12.10</td>\n      <td>400.0</td>\n      <td>432.12</td>\n      <td>5228.6520</td>\n      <td>4840.00</td>\n    </tr>\n    <tr>\n      <th>6</th>\n      <td>129</td>\n      <td>Person 7</td>\n      <td>3.56</td>\n      <td>300.0</td>\n      <td>432.12</td>\n      <td>1538.3472</td>\n      <td>1068.00</td>\n    </tr>\n  </tbody>\n</table>\n</div>"
     },
     "metadata": {},
     "execution_count": 10
    }
   ],
   "source": [
    "df_sheet1"
   ]
  },
  {
   "cell_type": "code",
   "execution_count": 11,
   "metadata": {},
   "outputs": [
    {
     "output_type": "execute_result",
     "data": {
      "text/plain": "     #     Person  Column 4  Column 5  Column 6   Column 7  Column 8\n0  123   Person 1     15.00     650.0    432.12  6481.8000   9750.00\n1  124   Person 2     14.50     650.0    432.12  6265.7400   9425.00\n2  125   Person 3      0.25     555.0    432.12   108.0300    138.75\n3  126   Person 4      2.12     555.0    432.12   916.0944   1176.60\n4  127   Person 5      5.64     650.0    432.12  2437.1568   3666.00\n5  128   Person 6     12.10     400.0    432.12  5228.6520   4840.00\n6  129   Person 7      3.56     300.0    432.12  1538.3472   1068.00\n7  130   Person 8      6.70     550.0    432.12  2895.2040   3685.00\n8  131   Person 9      8.99     651.0    432.12  3884.7588   5852.49\n9  132  Person 10     10.25     700.0    432.12  4429.2300   7175.00",
      "text/html": "<div>\n<style scoped>\n    .dataframe tbody tr th:only-of-type {\n        vertical-align: middle;\n    }\n\n    .dataframe tbody tr th {\n        vertical-align: top;\n    }\n\n    .dataframe thead th {\n        text-align: right;\n    }\n</style>\n<table border=\"1\" class=\"dataframe\">\n  <thead>\n    <tr style=\"text-align: right;\">\n      <th></th>\n      <th>#</th>\n      <th>Person</th>\n      <th>Column 4</th>\n      <th>Column 5</th>\n      <th>Column 6</th>\n      <th>Column 7</th>\n      <th>Column 8</th>\n    </tr>\n  </thead>\n  <tbody>\n    <tr>\n      <th>0</th>\n      <td>123</td>\n      <td>Person 1</td>\n      <td>15.00</td>\n      <td>650.0</td>\n      <td>432.12</td>\n      <td>6481.8000</td>\n      <td>9750.00</td>\n    </tr>\n    <tr>\n      <th>1</th>\n      <td>124</td>\n      <td>Person 2</td>\n      <td>14.50</td>\n      <td>650.0</td>\n      <td>432.12</td>\n      <td>6265.7400</td>\n      <td>9425.00</td>\n    </tr>\n    <tr>\n      <th>2</th>\n      <td>125</td>\n      <td>Person 3</td>\n      <td>0.25</td>\n      <td>555.0</td>\n      <td>432.12</td>\n      <td>108.0300</td>\n      <td>138.75</td>\n    </tr>\n    <tr>\n      <th>3</th>\n      <td>126</td>\n      <td>Person 4</td>\n      <td>2.12</td>\n      <td>555.0</td>\n      <td>432.12</td>\n      <td>916.0944</td>\n      <td>1176.60</td>\n    </tr>\n    <tr>\n      <th>4</th>\n      <td>127</td>\n      <td>Person 5</td>\n      <td>5.64</td>\n      <td>650.0</td>\n      <td>432.12</td>\n      <td>2437.1568</td>\n      <td>3666.00</td>\n    </tr>\n    <tr>\n      <th>5</th>\n      <td>128</td>\n      <td>Person 6</td>\n      <td>12.10</td>\n      <td>400.0</td>\n      <td>432.12</td>\n      <td>5228.6520</td>\n      <td>4840.00</td>\n    </tr>\n    <tr>\n      <th>6</th>\n      <td>129</td>\n      <td>Person 7</td>\n      <td>3.56</td>\n      <td>300.0</td>\n      <td>432.12</td>\n      <td>1538.3472</td>\n      <td>1068.00</td>\n    </tr>\n    <tr>\n      <th>7</th>\n      <td>130</td>\n      <td>Person 8</td>\n      <td>6.70</td>\n      <td>550.0</td>\n      <td>432.12</td>\n      <td>2895.2040</td>\n      <td>3685.00</td>\n    </tr>\n    <tr>\n      <th>8</th>\n      <td>131</td>\n      <td>Person 9</td>\n      <td>8.99</td>\n      <td>651.0</td>\n      <td>432.12</td>\n      <td>3884.7588</td>\n      <td>5852.49</td>\n    </tr>\n    <tr>\n      <th>9</th>\n      <td>132</td>\n      <td>Person 10</td>\n      <td>10.25</td>\n      <td>700.0</td>\n      <td>432.12</td>\n      <td>4429.2300</td>\n      <td>7175.00</td>\n    </tr>\n  </tbody>\n</table>\n</div>"
     },
     "metadata": {},
     "execution_count": 11
    }
   ],
   "source": [
    "df_sheet2"
   ]
  },
  {
   "cell_type": "code",
   "execution_count": 12,
   "metadata": {},
   "outputs": [
    {
     "output_type": "execute_result",
     "data": {
      "text/plain": "      #     Person  Column 4  Column 5  Column 6    Column 7  Column 8\n0   123   Person 1    15.000     650.0    432.12   6481.8000   9750.00\n1   124   Person 2    14.500     650.0    432.12   6265.7400   9425.00\n2   125   Person 3     0.250     555.0    432.12    108.0300    138.75\n3   126   Person 4     2.120     555.0    432.12    916.0944   1176.60\n4   127   Person 5     5.640     650.0    432.12   2437.1568   3666.00\n5   128   Person 6    12.100     400.0    432.12   5228.6520   4840.00\n6   129   Person 7     3.560     300.0    432.12   1538.3472   1068.00\n7   130   Person 8    11.450     450.0    432.12   4947.7740   5152.50\n8   131   Person 9    22.320     550.0    432.12   9644.9184  12276.00\n9   132  Person 10    20.180     425.0    432.12   8720.1816   8576.50\n10  133  Person 11    32.000     375.0    432.12  13827.8400  12000.00\n11  134  Person 12     5.570     650.0    432.12   2406.9084   3620.50\n12  135  Person 13     8.875     750.0    444.00   3940.5000   6656.25\n13  136  Person 14     3.250     555.0    432.12   1404.3900   1803.75\n14  137  Person 15    12.230     475.0    432.12   5284.8276   5809.25\n15  138  Person 16     0.330     650.0    575.00    189.7500    214.50\n16  139  Person 17     2.750     123.0    432.12   1188.3300    338.25",
      "text/html": "<div>\n<style scoped>\n    .dataframe tbody tr th:only-of-type {\n        vertical-align: middle;\n    }\n\n    .dataframe tbody tr th {\n        vertical-align: top;\n    }\n\n    .dataframe thead th {\n        text-align: right;\n    }\n</style>\n<table border=\"1\" class=\"dataframe\">\n  <thead>\n    <tr style=\"text-align: right;\">\n      <th></th>\n      <th>#</th>\n      <th>Person</th>\n      <th>Column 4</th>\n      <th>Column 5</th>\n      <th>Column 6</th>\n      <th>Column 7</th>\n      <th>Column 8</th>\n    </tr>\n  </thead>\n  <tbody>\n    <tr>\n      <th>0</th>\n      <td>123</td>\n      <td>Person 1</td>\n      <td>15.000</td>\n      <td>650.0</td>\n      <td>432.12</td>\n      <td>6481.8000</td>\n      <td>9750.00</td>\n    </tr>\n    <tr>\n      <th>1</th>\n      <td>124</td>\n      <td>Person 2</td>\n      <td>14.500</td>\n      <td>650.0</td>\n      <td>432.12</td>\n      <td>6265.7400</td>\n      <td>9425.00</td>\n    </tr>\n    <tr>\n      <th>2</th>\n      <td>125</td>\n      <td>Person 3</td>\n      <td>0.250</td>\n      <td>555.0</td>\n      <td>432.12</td>\n      <td>108.0300</td>\n      <td>138.75</td>\n    </tr>\n    <tr>\n      <th>3</th>\n      <td>126</td>\n      <td>Person 4</td>\n      <td>2.120</td>\n      <td>555.0</td>\n      <td>432.12</td>\n      <td>916.0944</td>\n      <td>1176.60</td>\n    </tr>\n    <tr>\n      <th>4</th>\n      <td>127</td>\n      <td>Person 5</td>\n      <td>5.640</td>\n      <td>650.0</td>\n      <td>432.12</td>\n      <td>2437.1568</td>\n      <td>3666.00</td>\n    </tr>\n    <tr>\n      <th>5</th>\n      <td>128</td>\n      <td>Person 6</td>\n      <td>12.100</td>\n      <td>400.0</td>\n      <td>432.12</td>\n      <td>5228.6520</td>\n      <td>4840.00</td>\n    </tr>\n    <tr>\n      <th>6</th>\n      <td>129</td>\n      <td>Person 7</td>\n      <td>3.560</td>\n      <td>300.0</td>\n      <td>432.12</td>\n      <td>1538.3472</td>\n      <td>1068.00</td>\n    </tr>\n    <tr>\n      <th>7</th>\n      <td>130</td>\n      <td>Person 8</td>\n      <td>11.450</td>\n      <td>450.0</td>\n      <td>432.12</td>\n      <td>4947.7740</td>\n      <td>5152.50</td>\n    </tr>\n    <tr>\n      <th>8</th>\n      <td>131</td>\n      <td>Person 9</td>\n      <td>22.320</td>\n      <td>550.0</td>\n      <td>432.12</td>\n      <td>9644.9184</td>\n      <td>12276.00</td>\n    </tr>\n    <tr>\n      <th>9</th>\n      <td>132</td>\n      <td>Person 10</td>\n      <td>20.180</td>\n      <td>425.0</td>\n      <td>432.12</td>\n      <td>8720.1816</td>\n      <td>8576.50</td>\n    </tr>\n    <tr>\n      <th>10</th>\n      <td>133</td>\n      <td>Person 11</td>\n      <td>32.000</td>\n      <td>375.0</td>\n      <td>432.12</td>\n      <td>13827.8400</td>\n      <td>12000.00</td>\n    </tr>\n    <tr>\n      <th>11</th>\n      <td>134</td>\n      <td>Person 12</td>\n      <td>5.570</td>\n      <td>650.0</td>\n      <td>432.12</td>\n      <td>2406.9084</td>\n      <td>3620.50</td>\n    </tr>\n    <tr>\n      <th>12</th>\n      <td>135</td>\n      <td>Person 13</td>\n      <td>8.875</td>\n      <td>750.0</td>\n      <td>444.00</td>\n      <td>3940.5000</td>\n      <td>6656.25</td>\n    </tr>\n    <tr>\n      <th>13</th>\n      <td>136</td>\n      <td>Person 14</td>\n      <td>3.250</td>\n      <td>555.0</td>\n      <td>432.12</td>\n      <td>1404.3900</td>\n      <td>1803.75</td>\n    </tr>\n    <tr>\n      <th>14</th>\n      <td>137</td>\n      <td>Person 15</td>\n      <td>12.230</td>\n      <td>475.0</td>\n      <td>432.12</td>\n      <td>5284.8276</td>\n      <td>5809.25</td>\n    </tr>\n    <tr>\n      <th>15</th>\n      <td>138</td>\n      <td>Person 16</td>\n      <td>0.330</td>\n      <td>650.0</td>\n      <td>575.00</td>\n      <td>189.7500</td>\n      <td>214.50</td>\n    </tr>\n    <tr>\n      <th>16</th>\n      <td>139</td>\n      <td>Person 17</td>\n      <td>2.750</td>\n      <td>123.0</td>\n      <td>432.12</td>\n      <td>1188.3300</td>\n      <td>338.25</td>\n    </tr>\n  </tbody>\n</table>\n</div>"
     },
     "metadata": {},
     "execution_count": 12
    }
   ],
   "source": [
    "\n",
    "df_sheet3"
   ]
  },
  {
   "source": [
    "Nice! Isn't it?"
   ],
   "cell_type": "markdown",
   "metadata": {}
  }
 ]
}